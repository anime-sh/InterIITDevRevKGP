{
 "cells": [
  {
   "cell_type": "code",
   "execution_count": 11,
   "metadata": {},
   "outputs": [],
   "source": [
    "import pandas as pd\n",
    "from tqdm import tqdm\n",
    "from ast import literal_eval"
   ]
  },
  {
   "cell_type": "code",
   "execution_count": 2,
   "metadata": {},
   "outputs": [
    {
     "data": {
      "text/html": [
       "<div>\n",
       "<style scoped>\n",
       "    .dataframe tbody tr th:only-of-type {\n",
       "        vertical-align: middle;\n",
       "    }\n",
       "\n",
       "    .dataframe tbody tr th {\n",
       "        vertical-align: top;\n",
       "    }\n",
       "\n",
       "    .dataframe thead th {\n",
       "        text-align: right;\n",
       "    }\n",
       "</style>\n",
       "<table border=\"1\" class=\"dataframe\">\n",
       "  <thead>\n",
       "    <tr style=\"text-align: right;\">\n",
       "      <th></th>\n",
       "      <th>Theme</th>\n",
       "      <th>Paragraph</th>\n",
       "      <th>Question</th>\n",
       "      <th>Answer_possible</th>\n",
       "      <th>Answer_text</th>\n",
       "      <th>Answer_start</th>\n",
       "    </tr>\n",
       "  </thead>\n",
       "  <tbody>\n",
       "    <tr>\n",
       "      <th>0</th>\n",
       "      <td>Beyoncé</td>\n",
       "      <td>Beyoncé Giselle Knowles-Carter (/biːˈjɒnseɪ/ b...</td>\n",
       "      <td>When did Beyonce leave Destiny's Child and bec...</td>\n",
       "      <td>True</td>\n",
       "      <td>['2003']</td>\n",
       "      <td>[526]</td>\n",
       "    </tr>\n",
       "    <tr>\n",
       "      <th>1</th>\n",
       "      <td>Beyoncé</td>\n",
       "      <td>Beyoncé Giselle Knowles-Carter (/biːˈjɒnseɪ/ b...</td>\n",
       "      <td>What album made her a worldwide known artist?</td>\n",
       "      <td>True</td>\n",
       "      <td>['Dangerously in Love']</td>\n",
       "      <td>[505]</td>\n",
       "    </tr>\n",
       "    <tr>\n",
       "      <th>2</th>\n",
       "      <td>Beyoncé</td>\n",
       "      <td>Beyoncé Giselle Knowles-Carter (/biːˈjɒnseɪ/ b...</td>\n",
       "      <td>Who managed the Destiny's Child group?</td>\n",
       "      <td>True</td>\n",
       "      <td>['Mathew Knowles']</td>\n",
       "      <td>[360]</td>\n",
       "    </tr>\n",
       "    <tr>\n",
       "      <th>3</th>\n",
       "      <td>Beyoncé</td>\n",
       "      <td>Beyoncé Giselle Knowles-Carter (/biːˈjɒnseɪ/ b...</td>\n",
       "      <td>When did Beyoncé rise to fame?</td>\n",
       "      <td>True</td>\n",
       "      <td>['late 1990s']</td>\n",
       "      <td>[276]</td>\n",
       "    </tr>\n",
       "    <tr>\n",
       "      <th>4</th>\n",
       "      <td>Beyoncé</td>\n",
       "      <td>Beyoncé Giselle Knowles-Carter (/biːˈjɒnseɪ/ b...</td>\n",
       "      <td>What role did Beyoncé have in Destiny's Child?</td>\n",
       "      <td>True</td>\n",
       "      <td>['lead singer']</td>\n",
       "      <td>[290]</td>\n",
       "    </tr>\n",
       "  </tbody>\n",
       "</table>\n",
       "</div>"
      ],
      "text/plain": [
       "     Theme                                          Paragraph  \\\n",
       "0  Beyoncé  Beyoncé Giselle Knowles-Carter (/biːˈjɒnseɪ/ b...   \n",
       "1  Beyoncé  Beyoncé Giselle Knowles-Carter (/biːˈjɒnseɪ/ b...   \n",
       "2  Beyoncé  Beyoncé Giselle Knowles-Carter (/biːˈjɒnseɪ/ b...   \n",
       "3  Beyoncé  Beyoncé Giselle Knowles-Carter (/biːˈjɒnseɪ/ b...   \n",
       "4  Beyoncé  Beyoncé Giselle Knowles-Carter (/biːˈjɒnseɪ/ b...   \n",
       "\n",
       "                                            Question  Answer_possible  \\\n",
       "0  When did Beyonce leave Destiny's Child and bec...             True   \n",
       "1      What album made her a worldwide known artist?             True   \n",
       "2             Who managed the Destiny's Child group?             True   \n",
       "3                     When did Beyoncé rise to fame?             True   \n",
       "4     What role did Beyoncé have in Destiny's Child?             True   \n",
       "\n",
       "               Answer_text Answer_start  \n",
       "0                 ['2003']        [526]  \n",
       "1  ['Dangerously in Love']        [505]  \n",
       "2       ['Mathew Knowles']        [360]  \n",
       "3           ['late 1990s']        [276]  \n",
       "4          ['lead singer']        [290]  "
      ]
     },
     "execution_count": 2,
     "metadata": {},
     "output_type": "execute_result"
    }
   ],
   "source": [
    "df = pd.read_csv(\"data-dir/train_data.csv\").drop(\"Unnamed: 0\", axis=1)\n",
    "df.head()"
   ]
  },
  {
   "cell_type": "code",
   "execution_count": 3,
   "metadata": {},
   "outputs": [
    {
     "data": {
      "text/plain": [
       "75055"
      ]
     },
     "execution_count": 3,
     "metadata": {},
     "output_type": "execute_result"
    }
   ],
   "source": [
    "len(df)"
   ]
  },
  {
   "cell_type": "code",
   "execution_count": 4,
   "metadata": {},
   "outputs": [],
   "source": [
    "df = df.rename(columns={\"Question\": \"question\",\n",
    "                   \"Theme\": \"title\",\n",
    "                   \"Paragraph\": \"context\",\n",
    "                   \"Answer_possible\": \"answerable\",\n",
    "                   \"Answer_start\": \"answer_start\", \n",
    "                   \"Answer_text\": \"answer_text\", \n",
    "                   })"
   ]
  },
  {
   "cell_type": "code",
   "execution_count": 5,
   "metadata": {},
   "outputs": [],
   "source": [
    "df[\"question\"] = df[\"title\"] + \" \" + df[\"question\"]"
   ]
  },
  {
   "cell_type": "code",
   "execution_count": 6,
   "metadata": {},
   "outputs": [],
   "source": [
    "df = df.drop(df.loc[(df.duplicated(subset=[\"question\"], keep=False)) & (\n",
    "        df[\"answerable\"] == False)].index, axis=0).reset_index(drop=True)"
   ]
  },
  {
   "cell_type": "code",
   "execution_count": 7,
   "metadata": {},
   "outputs": [
    {
     "data": {
      "text/plain": [
       "75038"
      ]
     },
     "execution_count": 7,
     "metadata": {},
     "output_type": "execute_result"
    }
   ],
   "source": [
    "len(df)"
   ]
  },
  {
   "cell_type": "code",
   "execution_count": 8,
   "metadata": {},
   "outputs": [],
   "source": [
    "# len(df.loc[(df.duplicated(subset=[\"Question\"], keep=False)) & (df[\"Answer_possible\"] == False)].sort_values(\"Question\"))"
   ]
  },
  {
   "cell_type": "code",
   "execution_count": 9,
   "metadata": {},
   "outputs": [],
   "source": [
    "# df = df.drop(df.loc[(df.duplicated(subset=[\"Question\"], keep=False)) & (df[\"Answer_possible\"] == False)].index, axis=0).reset_index(drop=True)"
   ]
  },
  {
   "cell_type": "code",
   "execution_count": 10,
   "metadata": {},
   "outputs": [
    {
     "name": "stderr",
     "output_type": "stream",
     "text": [
      "100%|██████████| 75038/75038 [00:45<00:00, 1637.99it/s]\n"
     ]
    }
   ],
   "source": [
    "ques2idx = {ques: idx for idx, ques in enumerate(df[\"question\"].unique())}\n",
    "con2idx = {con: idx for idx, con in enumerate(df[\"context\"].unique())}\n",
    "title2idx = {title: idx for idx, title in enumerate(df[\"title\"].unique())}\n",
    "\n",
    "for i in tqdm(range(len(df))):\n",
    "    df.loc[i, \"question_id\"] = ques2idx[df.iloc[i][\"question\"]]\n",
    "    df.loc[i, \"context_id\"] = con2idx[df.iloc[i][\"context\"]]\n",
    "    df.loc[i, \"title_id\"] = title2idx[df.iloc[i][\"title\"]]"
   ]
  },
  {
   "cell_type": "code",
   "execution_count": 11,
   "metadata": {},
   "outputs": [],
   "source": [
    "df[\"answer_start\"] = df[\"answer_start\"].apply(lambda x: literal_eval(x))"
   ]
  },
  {
   "cell_type": "code",
   "execution_count": 12,
   "metadata": {},
   "outputs": [
    {
     "data": {
      "text/plain": [
       "count    75038.000000\n",
       "mean         0.667995\n",
       "std          0.470936\n",
       "min          0.000000\n",
       "25%          0.000000\n",
       "50%          1.000000\n",
       "75%          1.000000\n",
       "max          1.000000\n",
       "Name: answer_start, dtype: float64"
      ]
     },
     "execution_count": 12,
     "metadata": {},
     "output_type": "execute_result"
    }
   ],
   "source": [
    "df[\"answer_start\"].apply(lambda x: len(x)).describe()"
   ]
  },
  {
   "cell_type": "code",
   "execution_count": 13,
   "metadata": {},
   "outputs": [],
   "source": [
    "df[\"answer_start\"] = df[\"answer_start\"].apply(lambda x: x[0] if len(x) > 0 else \"\")"
   ]
  },
  {
   "cell_type": "code",
   "execution_count": 14,
   "metadata": {},
   "outputs": [],
   "source": [
    "df[\"answer_text\"] = df[\"answer_text\"].apply(lambda x: literal_eval(x))"
   ]
  },
  {
   "cell_type": "code",
   "execution_count": 15,
   "metadata": {},
   "outputs": [
    {
     "data": {
      "text/plain": [
       "count    75038.000000\n",
       "mean         0.667995\n",
       "std          0.470936\n",
       "min          0.000000\n",
       "25%          0.000000\n",
       "50%          1.000000\n",
       "75%          1.000000\n",
       "max          1.000000\n",
       "Name: answer_text, dtype: float64"
      ]
     },
     "execution_count": 15,
     "metadata": {},
     "output_type": "execute_result"
    }
   ],
   "source": [
    "df[\"answer_text\"].apply(lambda x: len(x)).describe()"
   ]
  },
  {
   "cell_type": "code",
   "execution_count": 16,
   "metadata": {},
   "outputs": [],
   "source": [
    "df[\"answer_text\"] = df[\"answer_text\"].apply(lambda x: x[0] if len(x) > 0 else \"\")"
   ]
  },
  {
   "cell_type": "code",
   "execution_count": 17,
   "metadata": {},
   "outputs": [],
   "source": [
    "df[\"question_id\"] = df[\"question_id\"].astype(int)\n",
    "df[\"context_id\"] = df[\"context_id\"].astype(int)\n",
    "df[\"title_id\"] = df[\"title_id\"].astype(int)"
   ]
  },
  {
   "cell_type": "code",
   "execution_count": 18,
   "metadata": {},
   "outputs": [
    {
     "data": {
      "text/html": [
       "<div>\n",
       "<style scoped>\n",
       "    .dataframe tbody tr th:only-of-type {\n",
       "        vertical-align: middle;\n",
       "    }\n",
       "\n",
       "    .dataframe tbody tr th {\n",
       "        vertical-align: top;\n",
       "    }\n",
       "\n",
       "    .dataframe thead th {\n",
       "        text-align: right;\n",
       "    }\n",
       "</style>\n",
       "<table border=\"1\" class=\"dataframe\">\n",
       "  <thead>\n",
       "    <tr style=\"text-align: right;\">\n",
       "      <th></th>\n",
       "      <th>title</th>\n",
       "      <th>context</th>\n",
       "      <th>question</th>\n",
       "      <th>answerable</th>\n",
       "      <th>answer_text</th>\n",
       "      <th>answer_start</th>\n",
       "      <th>question_id</th>\n",
       "      <th>context_id</th>\n",
       "      <th>title_id</th>\n",
       "    </tr>\n",
       "  </thead>\n",
       "  <tbody>\n",
       "    <tr>\n",
       "      <th>0</th>\n",
       "      <td>Beyoncé</td>\n",
       "      <td>Beyoncé Giselle Knowles-Carter (/biːˈjɒnseɪ/ b...</td>\n",
       "      <td>Beyoncé When did Beyonce leave Destiny's Child...</td>\n",
       "      <td>True</td>\n",
       "      <td>2003</td>\n",
       "      <td>526</td>\n",
       "      <td>0</td>\n",
       "      <td>0</td>\n",
       "      <td>0</td>\n",
       "    </tr>\n",
       "    <tr>\n",
       "      <th>1</th>\n",
       "      <td>Beyoncé</td>\n",
       "      <td>Beyoncé Giselle Knowles-Carter (/biːˈjɒnseɪ/ b...</td>\n",
       "      <td>Beyoncé What album made her a worldwide known ...</td>\n",
       "      <td>True</td>\n",
       "      <td>Dangerously in Love</td>\n",
       "      <td>505</td>\n",
       "      <td>1</td>\n",
       "      <td>0</td>\n",
       "      <td>0</td>\n",
       "    </tr>\n",
       "    <tr>\n",
       "      <th>2</th>\n",
       "      <td>Beyoncé</td>\n",
       "      <td>Beyoncé Giselle Knowles-Carter (/biːˈjɒnseɪ/ b...</td>\n",
       "      <td>Beyoncé Who managed the Destiny's Child group?</td>\n",
       "      <td>True</td>\n",
       "      <td>Mathew Knowles</td>\n",
       "      <td>360</td>\n",
       "      <td>2</td>\n",
       "      <td>0</td>\n",
       "      <td>0</td>\n",
       "    </tr>\n",
       "    <tr>\n",
       "      <th>3</th>\n",
       "      <td>Beyoncé</td>\n",
       "      <td>Beyoncé Giselle Knowles-Carter (/biːˈjɒnseɪ/ b...</td>\n",
       "      <td>Beyoncé When did Beyoncé rise to fame?</td>\n",
       "      <td>True</td>\n",
       "      <td>late 1990s</td>\n",
       "      <td>276</td>\n",
       "      <td>3</td>\n",
       "      <td>0</td>\n",
       "      <td>0</td>\n",
       "    </tr>\n",
       "    <tr>\n",
       "      <th>4</th>\n",
       "      <td>Beyoncé</td>\n",
       "      <td>Beyoncé Giselle Knowles-Carter (/biːˈjɒnseɪ/ b...</td>\n",
       "      <td>Beyoncé What role did Beyoncé have in Destiny'...</td>\n",
       "      <td>True</td>\n",
       "      <td>lead singer</td>\n",
       "      <td>290</td>\n",
       "      <td>4</td>\n",
       "      <td>0</td>\n",
       "      <td>0</td>\n",
       "    </tr>\n",
       "    <tr>\n",
       "      <th>...</th>\n",
       "      <td>...</td>\n",
       "      <td>...</td>\n",
       "      <td>...</td>\n",
       "      <td>...</td>\n",
       "      <td>...</td>\n",
       "      <td>...</td>\n",
       "      <td>...</td>\n",
       "      <td>...</td>\n",
       "      <td>...</td>\n",
       "    </tr>\n",
       "    <tr>\n",
       "      <th>75033</th>\n",
       "      <td>Matter</td>\n",
       "      <td>These quarks and leptons interact through four...</td>\n",
       "      <td>Matter How many quarks and leptons are there?</td>\n",
       "      <td>False</td>\n",
       "      <td></td>\n",
       "      <td></td>\n",
       "      <td>75023</td>\n",
       "      <td>15553</td>\n",
       "      <td>360</td>\n",
       "    </tr>\n",
       "    <tr>\n",
       "      <th>75034</th>\n",
       "      <td>Matter</td>\n",
       "      <td>These quarks and leptons interact through four...</td>\n",
       "      <td>Matter What model satisfactorily explains grav...</td>\n",
       "      <td>False</td>\n",
       "      <td></td>\n",
       "      <td></td>\n",
       "      <td>75024</td>\n",
       "      <td>15553</td>\n",
       "      <td>360</td>\n",
       "    </tr>\n",
       "    <tr>\n",
       "      <th>75035</th>\n",
       "      <td>Matter</td>\n",
       "      <td>These quarks and leptons interact through four...</td>\n",
       "      <td>Matter Mass and energy can always be compared ...</td>\n",
       "      <td>False</td>\n",
       "      <td></td>\n",
       "      <td></td>\n",
       "      <td>75025</td>\n",
       "      <td>15553</td>\n",
       "      <td>360</td>\n",
       "    </tr>\n",
       "    <tr>\n",
       "      <th>75036</th>\n",
       "      <td>Matter</td>\n",
       "      <td>The term \"matter\" is used throughout physics i...</td>\n",
       "      <td>Matter Physics has broadly agreed on the defin...</td>\n",
       "      <td>False</td>\n",
       "      <td></td>\n",
       "      <td></td>\n",
       "      <td>75026</td>\n",
       "      <td>15554</td>\n",
       "      <td>360</td>\n",
       "    </tr>\n",
       "    <tr>\n",
       "      <th>75037</th>\n",
       "      <td>Matter</td>\n",
       "      <td>The term \"matter\" is used throughout physics i...</td>\n",
       "      <td>Matter What field of study has a variety of un...</td>\n",
       "      <td>False</td>\n",
       "      <td></td>\n",
       "      <td></td>\n",
       "      <td>75027</td>\n",
       "      <td>15554</td>\n",
       "      <td>360</td>\n",
       "    </tr>\n",
       "  </tbody>\n",
       "</table>\n",
       "<p>75038 rows × 9 columns</p>\n",
       "</div>"
      ],
      "text/plain": [
       "         title                                            context  \\\n",
       "0      Beyoncé  Beyoncé Giselle Knowles-Carter (/biːˈjɒnseɪ/ b...   \n",
       "1      Beyoncé  Beyoncé Giselle Knowles-Carter (/biːˈjɒnseɪ/ b...   \n",
       "2      Beyoncé  Beyoncé Giselle Knowles-Carter (/biːˈjɒnseɪ/ b...   \n",
       "3      Beyoncé  Beyoncé Giselle Knowles-Carter (/biːˈjɒnseɪ/ b...   \n",
       "4      Beyoncé  Beyoncé Giselle Knowles-Carter (/biːˈjɒnseɪ/ b...   \n",
       "...        ...                                                ...   \n",
       "75033   Matter  These quarks and leptons interact through four...   \n",
       "75034   Matter  These quarks and leptons interact through four...   \n",
       "75035   Matter  These quarks and leptons interact through four...   \n",
       "75036   Matter  The term \"matter\" is used throughout physics i...   \n",
       "75037   Matter  The term \"matter\" is used throughout physics i...   \n",
       "\n",
       "                                                question  answerable  \\\n",
       "0      Beyoncé When did Beyonce leave Destiny's Child...        True   \n",
       "1      Beyoncé What album made her a worldwide known ...        True   \n",
       "2         Beyoncé Who managed the Destiny's Child group?        True   \n",
       "3                 Beyoncé When did Beyoncé rise to fame?        True   \n",
       "4      Beyoncé What role did Beyoncé have in Destiny'...        True   \n",
       "...                                                  ...         ...   \n",
       "75033      Matter How many quarks and leptons are there?       False   \n",
       "75034  Matter What model satisfactorily explains grav...       False   \n",
       "75035  Matter Mass and energy can always be compared ...       False   \n",
       "75036  Matter Physics has broadly agreed on the defin...       False   \n",
       "75037  Matter What field of study has a variety of un...       False   \n",
       "\n",
       "               answer_text answer_start  question_id  context_id  title_id  \n",
       "0                     2003          526            0           0         0  \n",
       "1      Dangerously in Love          505            1           0         0  \n",
       "2           Mathew Knowles          360            2           0         0  \n",
       "3               late 1990s          276            3           0         0  \n",
       "4              lead singer          290            4           0         0  \n",
       "...                    ...          ...          ...         ...       ...  \n",
       "75033                                          75023       15553       360  \n",
       "75034                                          75024       15553       360  \n",
       "75035                                          75025       15553       360  \n",
       "75036                                          75026       15554       360  \n",
       "75037                                          75027       15554       360  \n",
       "\n",
       "[75038 rows x 9 columns]"
      ]
     },
     "execution_count": 18,
     "metadata": {},
     "output_type": "execute_result"
    }
   ],
   "source": [
    "df"
   ]
  },
  {
   "cell_type": "code",
   "execution_count": 19,
   "metadata": {},
   "outputs": [
    {
     "data": {
      "text/plain": [
       "title           object\n",
       "context         object\n",
       "question        object\n",
       "answerable        bool\n",
       "answer_text     object\n",
       "answer_start    object\n",
       "question_id      int64\n",
       "context_id       int64\n",
       "title_id         int64\n",
       "dtype: object"
      ]
     },
     "execution_count": 19,
     "metadata": {},
     "output_type": "execute_result"
    }
   ],
   "source": [
    "df.dtypes"
   ]
  },
  {
   "cell_type": "code",
   "execution_count": 20,
   "metadata": {},
   "outputs": [],
   "source": [
    "df.to_pickle(\"data-dir/data_prepared.pkl\")"
   ]
  },
  {
   "cell_type": "code",
   "execution_count": 12,
   "metadata": {},
   "outputs": [],
   "source": [
    "df = pd.read_pickle(\"data-dir/data_prepared.pkl\")"
   ]
  },
  {
   "cell_type": "code",
   "execution_count": 13,
   "metadata": {},
   "outputs": [],
   "source": [
    "df.to_csv(\"data-dir/data_prepared.csv\", index=False)"
   ]
  },
  {
   "cell_type": "code",
   "execution_count": null,
   "metadata": {},
   "outputs": [],
   "source": [
    "10807"
   ]
  }
 ],
 "metadata": {
  "kernelspec": {
   "display_name": "base",
   "language": "python",
   "name": "python3"
  },
  "language_info": {
   "codemirror_mode": {
    "name": "ipython",
    "version": 3
   },
   "file_extension": ".py",
   "mimetype": "text/x-python",
   "name": "python",
   "nbconvert_exporter": "python",
   "pygments_lexer": "ipython3",
   "version": "3.9.13"
  },
  "orig_nbformat": 4,
  "vscode": {
   "interpreter": {
    "hash": "4c2ef0194e62e763244c4f1dc184d3ec1b96676ee66817a29e3c3ed9de0551bf"
   }
  }
 },
 "nbformat": 4,
 "nbformat_minor": 2
}
